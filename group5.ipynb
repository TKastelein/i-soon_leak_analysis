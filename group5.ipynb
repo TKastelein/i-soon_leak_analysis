{
  "nbformat": 4,
  "nbformat_minor": 0,
  "metadata": {
    "colab": {
      "provenance": []
    },
    "kernelspec": {
      "name": "python3",
      "display_name": "Python 3"
    },
    "language_info": {
      "name": "python"
    }
  },
  "cells": [
    {
      "cell_type": "markdown",
      "source": [
        "# **Assignment 1 – Introduction to Digital Forensics**\n",
        "*29-09-2024*\n",
        "\n",
        "Luuk Wessels \\- s2859556  \n",
        "Thom Kastelein \\- s2749793  \n",
        "Madelief Veltkamp \\- s3083268"
      ],
      "metadata": {
        "id": "FBDDBRFRGVgG"
      }
    },
    {
      "cell_type": "markdown",
      "source": [
        "# 1\\. Read Blog Posts\n",
        "\n",
        "1. ## [https://www.wired.com/story/isoon-china-hack-for-hire-leak/](https://www.wired.com/story/isoon-china-hack-for-hire-leak/)\n",
        "   1. I-Soon is based in Shanghai. *(external source)*  \n",
        "     * Where is I-Soon located?  \n",
        "   2. I-Soon performs hacking, backed by the Chinese government *(external source)*.   \n",
        "   3. I-Soon worked for China’s Ministry of State Security and the People’s Liberation Army. *(data leak)*  \n",
        "     * Who does I-Soon work for?  \n",
        "       * *Evidence found in 35.xlsx (row 97\\)*  \n",
        "   4. I-Soon supported the development of the notorious remote access Trojan (RAT), ShadowPad. *(data leak)*  \n",
        "     * What does I-Soon do, as a company?  \n",
        "       * *Evidence found in 12.xlsx (row 158\\)*  \n",
        "   5. Data contains victims and possible targets. *(data leak)*  \n",
        "     * Who is affected by I-Soon’s attacks?  \n",
        "       * *Evidence found in 4.xlsx (row 18\\)*  \n",
        "       * *Evidence found in 13.xlsx (row 4\\)*  \n",
        "       * *Evidence found in 13.xlsx (row 119\\)*  \n",
        "   6. I-Soon had financial problems and employees had complaints. *(data leak)*  \n",
        "     * What are possible reasons for this data leak?  \n",
        "       * The *README.md* file from the leak has a section on employee complaints. These can be found in *32.xlsx, 39.xlsx, 12.xlsx, 41.xlsx, 30.xlsx, 16.xlsx, 17.xlsx and 36.xlsx*.  \n",
        "   7. I-Soon created hardware snooping devices. *(data leak)*  \n",
        "     * How does I-Soon perform attacks?  \n",
        "       * *Evidence found in 12.xlsx (row 185\\)*\n",
        "\n",
        "2. ## [https://internet2-0.com/i-soon-leak/](https://internet2-0.com/i-soon-leak/)\n",
        "   1. I-SOON is linked to the chinese government through contractual relationships *(external source)*  \n",
        "     * Can I-SOON be linked to any governments?  \n",
        "   2. I-SOON is linked to hacking group APT41, which is a top target of US intelligence services because of criminal activities such as theft of millions of dollars. *(external source)*  \n",
        "     * Can I-SOON be linked to any big hacker groups?  \n",
        "   3. I-SOON openly acknowledges that they are a hacking group for hire with targets such as India, Nepal and many others *(external source)*  \n",
        "     * What does I-SOON concern itself with?  \n",
        "   4. They display their hacking capabilities of specific services such as Twitter *(external source)*  \n",
        "     * What does I-SOON offer?  \n",
        "   5. Most likely the data was leaked by APT41, since there is evidence of a formal legal dispute *(external source)*  \n",
        "     * Who leaked the data about I-SOON?  \n",
        "       \n",
        "\n",
        "3. ## [https://www.kelacyber.com/blog/i-soon-leak-kelas-insights/](https://www.kelacyber.com/blog/i-soon-leak-kelas-insights/)\n",
        "   1. I-Soon stole call logs from telecommunication companies in Kazakhstan. *(data leak)*  \n",
        "     * Did I-Soon steal call logs from telecommunication companies in Kazakhstan?  \n",
        "       * *32eb7662-f212-4811-a7c1-1cfeb121cd99.png* shows folders saved on the computer of an I-Soon employee. One of the folders is called: “Kazakhstan Telecom Description”.  \n",
        "   2. I-Soon breached several organizations and networks. *(data leak)*  \n",
        "     * Did I-Soon breach several organizations and networks?  \n",
        "   3. I-Soon employees were discussing potential targets and internal notes on these potential targets were found. *(data leak)*  \n",
        "     * Did I-Soon employees discuss potential targets?   \n",
        "     \t * In *4.xlsx.* employees talk about multiple possible targets.   \n",
        "   4. I-Soon had tools to monitor domestic social platforms and twitter, offensive tools and test tools. *(data leak)*  \n",
        "    * Did I-Soon have tools to monitor domestic social platforms, offensive tools and/or test tools?   \n",
        "   5. Many Chinese local governmental bodies were end users of I-Soon and had contracts with the company. *(data leak)*  \n",
        "     * Did I-Soon do business with Chinese local governmental bodies?   \n",
        "   6. The two top managers of I-Soon were having online conversations with each other under the names “Shutd0wn” & “Lengmo”. *(external source)*  \n",
        "     * Under which usernames were the two top managers of I-Soon having online conversations?   \n",
        "   7. I-Soon maintained close relationships with Chinese governmental bodies as a provider of cybersecurity software, services, and training. *(data leak)*  \n",
        "     * Did I-Soon maintain close relationships with Chinese governmental bodies?  \n",
        "   8. I-Soon infiltrated organizational networks in countries including The US, India, Kazakhstan, Vietnam, Malaysia, Mongolia, Taiwan, Thailand, South Korea, The Philippines, Myanmar, and Nepal. *(data leak)*  \n",
        "     * Did I-Soon infiltrate organizational networks in other countries? If so, in which countries?   \n",
        "   9. The majority of I-Soon’s clients were Chinese provincial- and city-level governmental bodies, most of which were local public security bureaus. *(data leak, conversations & contract ledger)*  \n",
        "     * Among I-Soons clients, were there Chinese provincial and city-level governmental bodies?   \n",
        "   10. I-Soon was a certified provider for the Ministry of Public security. *(Based on I-Soon’s public website)*  \n",
        "     Was I-Soon a certified provider for the Ministry of Public security?   \n",
        "   11. I-Soon possessed a tool to retrieve a twitter (X) user’s email address and phone number and monitor their activities in real time, read direct messages and publish tweets on the user’s behalf. *(data leak)*  \n",
        "     * Did I-Soon have a tool that could be used on twitter accounts and what could it do?   \n",
        "       * TF179eb06-0c53-44df-a13f-570be23355bb\\_5.png is a page of a paper that introduces the “Twitter interest and guidance system”. It states the existence of such a tool and the specifics can be found further in the report.   \n",
        "   12. I-Soon possesses remote access tools for Windows and Linux that have keylogging and file logging and can access information on a remote system. It included a remote shell tool that could disconnect and uninstall itself as well in the compromised systems. *(data leak)*  \n",
        "     * Did I-Soon have remote access tools for Windows and Linux? If so, what are the capabilities of the tools?  \n",
        "       * There is a whole paper explaining what the “Windows remote control management system” is and how it can be used.    \n",
        "         *9fe6b262-9944-417d-a0c4-9f2de1de2994\\_5.png* is a page of the paper and gives an introduction to the product.   \n",
        "   12. I-Soon possesses IOS/Android device exploitations tools that can obtain information from compromised systems, including dumping messages from top messaging apps, and take real time audio recordings. *(data leak)*  \n",
        "     * Did I-Soon have tools to exploit IOS/Android devices?   \n",
        "   13. I-Soon had network penetration devices. These devices appeared as electronics but could be used to attack networks from within.  *(data leak)*  \n",
        "     * Did I-Soon have network penetration devices?  \n",
        "       * *64bba692-d430-440c-9f1e-2575f45770af\\_6.png* is a slide from a presentation that introduces the services and capabilities of I-Soon. The slide states the existence of a target penetration service and specifies which kind of networks are targeted.   \n",
        "       * *D5ff8b65-db15-418a-b33e-169498d79110\\_3.png* is a page of a paper that also states the existence.   \n",
        "   14. I-Soon had a tool to mass analyze email. It also mined IP addresses from headers and personal information from email content. *(data leak)*  \n",
        "     * Did I-Soon have a tool related to email? If so, what could the tool do?   \n",
        "   15. I-Soon had an automated pentesting platform. Offensive capabilities of the tool are application exploitation, RATs, and running phishing campaigns. *(data leak)*  \n",
        "   * I-Soon can be linked to two Chinese ATP campaigns: Jackpot Panda & Poison Carp. *(data leak)*  \n",
        "     * Did I-Soon have anything to do with Jackpot Panda and/or Poison carp?  \n",
        "       * In *23.xlsx (row 5\\)* there is a conversation between two I-Soon employees who mention the IP 74.120.172.10, which is related to a domain mailnotes.online. That domain was used for Poison carp (Citizen lab, 2019).   \n",
        "       * In *36.xlsx (row 24\\)* two employees mention a server on 8.218.67.52 belonging to I-Soon. This IP was in 2022 linked to Jackpot Panda.   \n",
        "   16. I-Soon had a close relationship with Chengdu 404, which is tied to the operation of ATP 41 in 2020\\. *(data leak)*  \n",
        "     * Did I-Soon have contact with Chengdu 404?  \n",
        "       * *e182d867-dc18-43fd-a418-26dcf784242f\\_2\\_0.pnga* is a list of procurement contracts of I-Soon. It mentioned a contract between I-Soon and Chengdu 404, where I-Soon bought the “Sonar-X” tool from Chengdu 404\\. This indicates that they did have contact/did business with each other. However, there is no proof of active collaboration.   \n",
        "   17. I-Soon had manuals and whitepapers of Treadstone, ShadowPad, and Sonar-X and they were attributed to nation-state actors, including APT 41 & Winnti Group.   \n",
        "     * Does I-Soon have manuals and whitepapers of Treadstone, ShadowPad and/or Sonar-X?   \n",
        "   18. I-Soon was constantly looking to find and exploit zero-day vulnerabilities.   \n",
        "     * Was I-Soon looking to find and exploit zero-day vulnerabilities?  \n",
        "       * In *4.xlsx (row 41\\)* there is a conversation between two employees talking about whether they have an exploit for the “Log4J2 0day” (which according to KELA likely refers to CVE-2021-44228). This was a zero-day vulnerability allowing for remote code execution.  \n",
        "       * In *15.xlsx (row 69\\)* employees of I-Soon discuss “Juniper SRX Firewall RCE 0day.” An employee asks the other employee if he already got hold of the 0day vulnerability, to which the other responds that he should have.\n"
      ],
      "metadata": {
        "id": "4ooWz18PXohO"
      }
    },
    {
      "cell_type": "markdown",
      "source": [
        "## Message log search tool"
      ],
      "metadata": {
        "id": "YJaan8ejZAcn"
      }
    },
    {
      "cell_type": "markdown",
      "source": [
        "# 2\\. Examine the Dataset"
      ],
      "metadata": {
        "id": "XIcKzofKaHnJ"
      }
    },
    {
      "cell_type": "markdown",
      "source": [
        "For this assigment, we made a small search tool that can be used to query the given chatlogs based on sepecific keywords. We used it during part 2 (Examine the Dataset) of the assigment to more easily find topics of interest.\n",
        "\n",
        "To use it, the translated chatlogs (.xlsx files) must be places in a directory located at _./i-s00n/chat_cn2en_."
      ],
      "metadata": {
        "id": "aDYa3AZ6EHHH"
      }
    },
    {
      "cell_type": "code",
      "source": [
        "# library imports\n",
        "from os import listdir\n",
        "import pandas\n",
        "from typing import *"
      ],
      "metadata": {
        "id": "BTBi9F20ZQ4k"
      },
      "execution_count": null,
      "outputs": []
    },
    {
      "cell_type": "markdown",
      "source": [
        "### Importing data"
      ],
      "metadata": {
        "id": "uY6d1eTeZGIz"
      }
    },
    {
      "cell_type": "code",
      "source": [
        "# importing message logs\n",
        "LOG_FOLDER_PATH = \"./i-s00n/chat_cn2en\"\n",
        "\n",
        "LOG_FILE_PATHS = list(map(lambda fn: f\"{LOG_FOLDER_PATH}/{fn}\", filter(lambda fn: fn.endswith(\".xlsx\"), listdir(LOG_FOLDER_PATH))))\n",
        "\n",
        "Message = Tuple[int, str, str, str, str, str]\n",
        "MSG_DATA:Dict[str, List[Message]] = {}\n",
        "\n",
        "for fp in LOG_FILE_PATHS:\n",
        "    df = pandas.read_excel(fp)\n",
        "    MSG_DATA[fp] = list(zip( # data is placed in tuples for ease of use\n",
        "        list(map(str, df[\"Unnamed: 0\"].values)),\n",
        "        list(map(str, df[\"Time\"].values)),\n",
        "        list(map(str, df[\"From\"].values)),\n",
        "        list(map(str, df[\"To\"].values)),\n",
        "        list(map(str, df[\"message_en\"].values)),\n",
        "        list(map(str, df[\"Message\"].values))\n",
        "    ))\n",
        "\n",
        "    print(MSG_DATA[fp][0]) # print to make sure it works"
      ],
      "metadata": {
        "id": "sGK6iElyY4JN"
      },
      "execution_count": null,
      "outputs": []
    },
    {
      "cell_type": "markdown",
      "source": [
        "### Searching through data"
      ],
      "metadata": {
        "id": "gcAP4uO0ZItP"
      }
    },
    {
      "cell_type": "code",
      "source": [
        "# search function\n",
        "def search_data(query:str) -> Dict[str, Message]:\n",
        "    \"\"\"\n",
        "    Searches through the dataset based on a search term.\n",
        "\n",
        "    Parameters\n",
        "    1. query - search term as a str\n",
        "    \"\"\"\n",
        "    results:Dict[str, Message] = {}\n",
        "\n",
        "    for fp in MSG_DATA:\n",
        "        file_results:List[str] = []\n",
        "        for i in range(len(MSG_DATA[fp])):\n",
        "            message = MSG_DATA[fp][i]\n",
        "            msg_en = message[4]\n",
        "\n",
        "            if query.lower() in msg_en.lower():\n",
        "                file_results.append(message)\n",
        "\n",
        "        if len(file_results) != 0:\n",
        "            results[fp] = file_results\n",
        "\n",
        "    return results\n",
        "\n",
        "def get_msg_context(fp:str, message:Message, window_size=5) -> List[Message]:\n",
        "    \"\"\"\n",
        "    Retrieves other messages from a conversation between two people.\n",
        "\n",
        "    Parameters\n",
        "    1. fp - filepath to a chat log\n",
        "    2. message - Message to get context for\n",
        "    - window_size - the number of messages to retrieve (half will be from before `message` and half will be from after)\n",
        "    \"\"\"\n",
        "    (ind, time, sender, recipient, msg_en, msg_cn) = message\n",
        "    out:List[Message] = []\n",
        "\n",
        "    # get context before\n",
        "    i = int(ind) - 1\n",
        "    while i >= 0 and len(out) < window_size // 2:\n",
        "        message_i = MSG_DATA[fp][i]\n",
        "        if (message_i[2], message_i[3]) == (sender, recipient) or (message_i[2], message_i[3]) == (recipient, sender):\n",
        "            out.insert(0, message_i)\n",
        "        i -= 1\n",
        "\n",
        "    if window_size != 0: out.append(message)\n",
        "\n",
        "    # get context after\n",
        "    i = int(ind) + 1\n",
        "    while i < len(MSG_DATA[fp]) and len(out) < window_size:\n",
        "        message_i = MSG_DATA[fp][i]\n",
        "        if (message_i[2], message_i[3]) == (sender, recipient) or (message_i[2], message_i[3]) == (recipient, sender):\n",
        "            out.append(message_i)\n",
        "        i += 1\n",
        "\n",
        "    return out"
      ],
      "metadata": {
        "id": "UblFy4q1Y6yc"
      },
      "execution_count": null,
      "outputs": []
    },
    {
      "cell_type": "markdown",
      "source": [
        "### Performing search and displaying results"
      ],
      "metadata": {
        "id": "Fxt1p6_iGuLM"
      }
    },
    {
      "cell_type": "code",
      "source": [
        "def print_message(fp:str, message:Message, prefix=\"\", context_window_size=0):\n",
        "    \"\"\"\n",
        "    Prints out a message to the console.\n",
        "\n",
        "    Parameters:\n",
        "    1. fp - filepath to the chat log\n",
        "    - prefix - str to print before the message (e.g. for an indent)\n",
        "    - context_window_size - number of messages to include in the message's context\n",
        "    \"\"\"\n",
        "    (ind, time, sender, recipient, msg_en, msg_cn) = message\n",
        "    print(f\"{prefix}[{ind}] - ({sender} -> {recipient}) :: {msg_en}\")\n",
        "    for ctx_message in get_msg_context(fp, message, window_size=context_window_size):\n",
        "        print_message(fp, ctx_message, prefix = prefix + (\" -> \" if ctx_message[0] == ind else \"    \"), context_window_size=0)"
      ],
      "metadata": {
        "id": "PXJI6uGCY9Nm"
      },
      "execution_count": null,
      "outputs": []
    },
    {
      "cell_type": "code",
      "source": [
        "# performing the search\n",
        "results = search_data(\"0day\")\n",
        "\n",
        "if len(results) == 0: # no results\n",
        "    print(\"No results :(\")\n",
        "else: # results\n",
        "    for fp in results: # print filepaths and results from those files\n",
        "        print(f\"Found in {fp}:\")\n",
        "        for message in results[fp]:\n",
        "            print_message(fp, message, prefix=\"    \", context_window_size=5)\n",
        "\n",
        "        print()"
      ],
      "metadata": {
        "id": "caJO_eGeG16g"
      },
      "execution_count": null,
      "outputs": []
    },
    {
      "cell_type": "markdown",
      "source": [
        "1. I-Soon developed a WiFi probing tool and a trojan targeting MacOS.  \n",
        "   * *Evidence found in 41.xlsx (row 315\\)*  \n",
        "2. I-Soon developed software to infiltrate GMail accounts. This is important because Google is an American company.  \n",
        "   * *Evidence found in 10.xlsx (row 118\\)*  \n",
        "3. I-Soon developed a Linux remote control system, which can be used for malicious purposes so is potentially illegal.  \n",
        "   * *Evidence found in 37.xlsx (row 61\\)*  \n",
        "4. I-Soon developed a network traceability and forensics system, which can be used to intercept other people’s network traffic and could potentially be illegal.  \n",
        "   * *Evidence found in 37.xlsx (row 61\\)*  \n",
        "5. The leaked chat logs contain many passwords. This is interesting because they could be used to retrieve additional information about the company and their practices.  \n",
        "   * *Evidence found in 14.xlsx (row 0\\)*  \n",
        "   * *Evidence found in 36.xlsx (row 22\\)*  \n",
        "6. In several leaked chats between I-Soon employees they talk about hacking gambling websites. They retrieve personal information of the gamblers from these websites. The police should look into this because hacking websites to retrieve personal information is illegal."
      ],
      "metadata": {
        "id": "5O_dBPKGaEUa"
      }
    },
    {
      "cell_type": "markdown",
      "source": [
        "# 3\\. Building hypothesis\n",
        "\n",
        "## 1\\. I-Soon closed down due to their financial trouble\n",
        "\n",
        "From the data, we find that employees complain about I-Soon’s management. From the logs, we also find complaints about salary payments (not being on time, deductions, etc.). Currently, the I-Soon website looks to be closed down. Combining these facts, we hypothesize that I-Soon had financial problems and possibly disbanded because of them.\n",
        "\n",
        "## 2\\. I-Soon continued under a new name\n",
        "\n",
        "After the data leak it was not feasible for I-Soon to continue under the same name, even though we can see in the chats that they were not afraid to be public about their capabilities. This combined, we hypothesize that I-Soon continued under a new name.\n",
        "\n",
        "## 3\\. I-Soon had access to unknown vulnerabilities\n",
        "\n",
        "From the dataset, we gathered that I-Soon has interest in certain zero-day vulnerabilities (such as Log4J). When combined with the knowledge that I-Soon actively made software/hardware to hack into devices, it is not unreasonable to predict that they had access to information on critical vulnerabilities that were unknown to the public.\n"
      ],
      "metadata": {
        "id": "r6bxOJJCaUdz"
      }
    }
  ]
}